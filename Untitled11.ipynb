{
  "nbformat": 4,
  "nbformat_minor": 0,
  "metadata": {
    "colab": {
      "provenance": [],
      "authorship_tag": "ABX9TyOTALY5CdK+kI3+8xIcPv0D",
      "include_colab_link": true
    },
    "kernelspec": {
      "name": "python3",
      "display_name": "Python 3"
    },
    "language_info": {
      "name": "python"
    }
  },
  "cells": [
    {
      "cell_type": "markdown",
      "metadata": {
        "id": "view-in-github",
        "colab_type": "text"
      },
      "source": [
        "<a href=\"https://colab.research.google.com/github/yehaa2004/blender/blob/main/Untitled11.ipynb\" target=\"_parent\"><img src=\"https://colab.research.google.com/assets/colab-badge.svg\" alt=\"Open In Colab\"/></a>"
      ]
    },
    {
      "cell_type": "code",
      "execution_count": 1,
      "metadata": {
        "colab": {
          "base_uri": "https://localhost:8080/"
        },
        "id": "anEnrHCKRxPv",
        "outputId": "e7f3b0b0-395a-4325-9a65-7eec6ca008f3"
      },
      "outputs": [
        {
          "output_type": "stream",
          "name": "stdout",
          "text": [
            "Collecting tabula-py\n",
            "  Downloading tabula_py-2.9.0-py3-none-any.whl (12.0 MB)\n",
            "\u001b[2K     \u001b[90m━━━━━━━━━━━━━━━━━━━━━━━━━━━━━━━━━━━━━━━━\u001b[0m \u001b[32m12.0/12.0 MB\u001b[0m \u001b[31m44.2 MB/s\u001b[0m eta \u001b[36m0:00:00\u001b[0m\n",
            "\u001b[?25hRequirement already satisfied: pandas>=0.25.3 in /usr/local/lib/python3.10/dist-packages (from tabula-py) (2.0.3)\n",
            "Requirement already satisfied: numpy in /usr/local/lib/python3.10/dist-packages (from tabula-py) (1.25.2)\n",
            "Requirement already satisfied: distro in /usr/lib/python3/dist-packages (from tabula-py) (1.7.0)\n",
            "Requirement already satisfied: python-dateutil>=2.8.2 in /usr/local/lib/python3.10/dist-packages (from pandas>=0.25.3->tabula-py) (2.8.2)\n",
            "Requirement already satisfied: pytz>=2020.1 in /usr/local/lib/python3.10/dist-packages (from pandas>=0.25.3->tabula-py) (2023.4)\n",
            "Requirement already satisfied: tzdata>=2022.1 in /usr/local/lib/python3.10/dist-packages (from pandas>=0.25.3->tabula-py) (2024.1)\n",
            "Requirement already satisfied: six>=1.5 in /usr/local/lib/python3.10/dist-packages (from python-dateutil>=2.8.2->pandas>=0.25.3->tabula-py) (1.16.0)\n",
            "Installing collected packages: tabula-py\n",
            "Successfully installed tabula-py-2.9.0\n"
          ]
        }
      ],
      "source": [
        "!pip install tabula-py"
      ]
    },
    {
      "cell_type": "code",
      "source": [
        "import tabula"
      ],
      "metadata": {
        "id": "idy_IwT9R-4Z"
      },
      "execution_count": 2,
      "outputs": []
    },
    {
      "cell_type": "code",
      "source": [
        "import csv"
      ],
      "metadata": {
        "id": "3txaHZtHTQAL"
      },
      "execution_count": 9,
      "outputs": []
    },
    {
      "cell_type": "code",
      "source": [
        "file = \"/content/all_seasons.pdf\""
      ],
      "metadata": {
        "id": "ptvSaZfVSCFo"
      },
      "execution_count": 3,
      "outputs": []
    },
    {
      "cell_type": "code",
      "source": [
        "df_1 = tabula.read_pdf('/content/all_seasons.pdf')"
      ],
      "metadata": {
        "colab": {
          "base_uri": "https://localhost:8080/"
        },
        "id": "VAdpe3dGShQ-",
        "outputId": "2722fa1e-004a-49db-c128-b6cd2b4a5234"
      },
      "execution_count": 4,
      "outputs": [
        {
          "output_type": "stream",
          "name": "stderr",
          "text": [
            "WARNING:tabula.backend:Error importing jpype dependencies. Fallback to subprocess.\n",
            "WARNING:tabula.backend:No module named 'jpype'\n",
            "WARNING:tabula.util:'pages' argument isn't specified.Will extract only from page 1 by default.\n"
          ]
        }
      ]
    },
    {
      "cell_type": "code",
      "source": [
        "print(df_1)"
      ],
      "metadata": {
        "colab": {
          "base_uri": "https://localhost:8080/"
        },
        "id": "4q_JBchKSvqD",
        "outputId": "a65963ca-2d0b-464b-c244-e2900b04d6db"
      },
      "execution_count": 5,
      "outputs": [
        {
          "output_type": "stream",
          "name": "stdout",
          "text": [
            "[      0 Randy Livingston  HOU  22  193.04   94.800728\n",
            "0     1 Gaylon Nickerson  WAS  28  190.50   86.182480\n",
            "1         2 George Lynch  VAN  26  203.20  103.418976\n",
            "2       3 George McCloud  LAL  30  203.20  102.058200\n",
            "3         4 George Zidek  DEN  23  213.36  119.748288\n",
            "4       5 Gerald Wilkins  ORL  33  198.12  102.058200\n",
            "5     6 Gheorghe Muresan  WAS  26  231.14  137.438376\n",
            "6            7 Glen Rice  CHH  30  203.20   99.790240\n",
            "7       8 Glenn Robinson  MIL  24  200.66  106.594120\n",
            "8           9 Grant Hill  DET  24  203.20  102.058200\n",
            "9          10 Gary Trent  POR  22  203.20  113.398000\n",
            "10         11 Grant Long  DET  31  205.74  112.490816\n",
            "11       12 Greg Anthony  VAN  29  185.42   81.646560\n",
            "12      13 Greg Dreiling  DAL  33  215.90  120.201880\n",
            "13        14 Greg Foster  UTA  28  210.82  113.398000\n",
            "14        15 Greg Graham  SEA  26  193.04   82.553744\n",
            "15         16 Greg Minor  BOS  25  198.12   95.254320\n",
            "16      17 Greg Ostertag  UTA  24  218.44  127.005760\n",
            "17    18 Hakeem Olajuwon  HOU  34  213.36  115.665960\n",
            "18       19 Harvey Grant  WAS  31  205.74  102.058200\n",
            "19   20 Haywoode Workman  IND  31  187.96   81.646560\n",
            "20      21 Greg Anderson  SAS  33  208.28  113.398000\n",
            "21        22 Gary Payton  SEA  28  193.04   86.182480\n",
            "22         23 Gary Grant  MIA  32  190.50   83.914520\n",
            "23       24 Fred Roberts  DAL  36  208.28   98.883056\n",
            "24  25 Eldridge Recasner  ATL  29  193.04   86.182480\n",
            "25       26 Elliot Perry  MIL  28  182.88   72.574720\n",
            "26      27 Elmer Bennett  DEN  27  182.88   77.110640\n",
            "27     28 Elmore Spencer  SEA  27  213.36  122.469840\n",
            "28      29 Emanual Davis  HOU  28  195.58   87.996848\n",
            "29      30 Ennis Whatley  POR  34  190.50   80.285784\n",
            "30       31 Eric Leckner  VAN  31  210.82  120.201880\n",
            "31        32 Eric Mobley  VAN  27  210.82  106.594120\n",
            "32      33 Eric Montross  NJN  25  213.36  122.469840\n",
            "33       34 Eric Murdock  DEN  29  185.42   86.182480\n",
            "34    35 Eric Piatkowski  LAC  26  200.66   97.522280\n",
            "35          36 Eric Snow  SEA  24  190.50   90.718400\n",
            "36      37 Eric Williams  BOS  24  203.20   99.790240\n",
            "37      38 Erick Dampier  IND  21  210.82  120.201880\n",
            "38   39 Erick Strickland  DAL  23  190.50   95.254320\n",
            "39      40 Ervin Johnson  DEN  29  210.82  111.130040\n",
            "40         41 Evric Gray  NJN  27  200.66  106.594120\n",
            "41     42 Felton Spencer  GSW  29  213.36  127.005760\n",
            "42   43 Frank Brickowski  BOS  37  205.74  108.862080\n",
            "43       44 Frankie King  PHI  25  185.42   83.914520\n",
            "44       45 Fred Hoiberg  IND  24  193.04   92.079176\n",
            "45        46 Henry James  ATL  31  203.20   99.790240\n",
            "46     47 Elden Campbell  LAL  28  213.36  113.398000\n",
            "47      48 Herb Williams  NYK  39  210.82  117.933920\n",
            "48       49 Horace Grant  ORL  31  208.28  111.130040\n",
            "49    50 Jerome Williams  DET  24  205.74   93.439952\n",
            "50   51 Jerry Stackhouse  PHI  22  198.12   98.883056]\n"
          ]
        }
      ]
    },
    {
      "cell_type": "code",
      "source": [
        "output = tabula.convert_into(file, \"/content/sample_data.csv\", output_format=\"csv\", pages=[1, 2])"
      ],
      "metadata": {
        "id": "-FzCCFMlS3r2"
      },
      "execution_count": 6,
      "outputs": []
    },
    {
      "cell_type": "code",
      "source": [
        "print(output)"
      ],
      "metadata": {
        "colab": {
          "base_uri": "https://localhost:8080/"
        },
        "id": "uK8z7getS-T-",
        "outputId": "0aaa6e1a-ec14-41b5-8e24-5c6afe2fdcc8"
      },
      "execution_count": 7,
      "outputs": [
        {
          "output_type": "stream",
          "name": "stdout",
          "text": [
            "None\n"
          ]
        }
      ]
    },
    {
      "cell_type": "code",
      "source": [
        "file = open('/content/sample_data.csv')\n",
        "type(file)"
      ],
      "metadata": {
        "colab": {
          "base_uri": "https://localhost:8080/"
        },
        "id": "ZRbTj1axTCJ4",
        "outputId": "92f87dee-6fca-43af-f0c5-badcdcbf022c"
      },
      "execution_count": 8,
      "outputs": [
        {
          "output_type": "execute_result",
          "data": {
            "text/plain": [
              "_io.TextIOWrapper"
            ]
          },
          "metadata": {},
          "execution_count": 8
        }
      ]
    },
    {
      "cell_type": "code",
      "source": [
        "import pandas as pd\n"
      ],
      "metadata": {
        "id": "-UuWAa6hTXpO"
      },
      "execution_count": 11,
      "outputs": []
    },
    {
      "cell_type": "code",
      "source": [
        "data= pd.read_csv(\"/content/sample_data.csv\")\n",
        "data"
      ],
      "metadata": {
        "colab": {
          "base_uri": "https://localhost:8080/",
          "height": 687
        },
        "id": "_eXWyQrcTRz8",
        "outputId": "d072c788-cfa4-46ac-85cb-25b6d3a0d8af"
      },
      "execution_count": 12,
      "outputs": [
        {
          "output_type": "execute_result",
          "data": {
            "text/plain": [
              "     0 Randy Livingston  HOU  22  193.04   94.800728\n",
              "0    1 Gaylon Nickerson  WAS  28  190.50   86.182480\n",
              "1        2 George Lynch  VAN  26  203.20  103.418976\n",
              "2      3 George McCloud  LAL  30  203.20  102.058200\n",
              "3        4 George Zidek  DEN  23  213.36  119.748288\n",
              "4      5 Gerald Wilkins  ORL  33  198.12  102.058200\n",
              "..                  ...  ...  ..     ...         ...\n",
              "99      100 Chris Mills  CLE  27  200.66   97.975872\n",
              "100    101 Chris Morris  UTA  31  203.20   99.790240\n",
              "101    102 Chris Mullin  GSW  33  200.66   97.522280\n",
              "102  103 Chris Robinson  VAN  23  195.58   90.718400\n",
              "103    104 Chris Webber  WAS  24  208.28  111.130040\n",
              "\n",
              "[104 rows x 5 columns]"
            ],
            "text/html": [
              "\n",
              "  <div id=\"df-f893706a-93e2-4c34-967f-7a0ceffabc65\" class=\"colab-df-container\">\n",
              "    <div>\n",
              "<style scoped>\n",
              "    .dataframe tbody tr th:only-of-type {\n",
              "        vertical-align: middle;\n",
              "    }\n",
              "\n",
              "    .dataframe tbody tr th {\n",
              "        vertical-align: top;\n",
              "    }\n",
              "\n",
              "    .dataframe thead th {\n",
              "        text-align: right;\n",
              "    }\n",
              "</style>\n",
              "<table border=\"1\" class=\"dataframe\">\n",
              "  <thead>\n",
              "    <tr style=\"text-align: right;\">\n",
              "      <th></th>\n",
              "      <th>0 Randy Livingston</th>\n",
              "      <th>HOU</th>\n",
              "      <th>22</th>\n",
              "      <th>193.04</th>\n",
              "      <th>94.800728</th>\n",
              "    </tr>\n",
              "  </thead>\n",
              "  <tbody>\n",
              "    <tr>\n",
              "      <th>0</th>\n",
              "      <td>1 Gaylon Nickerson</td>\n",
              "      <td>WAS</td>\n",
              "      <td>28</td>\n",
              "      <td>190.50</td>\n",
              "      <td>86.182480</td>\n",
              "    </tr>\n",
              "    <tr>\n",
              "      <th>1</th>\n",
              "      <td>2 George Lynch</td>\n",
              "      <td>VAN</td>\n",
              "      <td>26</td>\n",
              "      <td>203.20</td>\n",
              "      <td>103.418976</td>\n",
              "    </tr>\n",
              "    <tr>\n",
              "      <th>2</th>\n",
              "      <td>3 George McCloud</td>\n",
              "      <td>LAL</td>\n",
              "      <td>30</td>\n",
              "      <td>203.20</td>\n",
              "      <td>102.058200</td>\n",
              "    </tr>\n",
              "    <tr>\n",
              "      <th>3</th>\n",
              "      <td>4 George Zidek</td>\n",
              "      <td>DEN</td>\n",
              "      <td>23</td>\n",
              "      <td>213.36</td>\n",
              "      <td>119.748288</td>\n",
              "    </tr>\n",
              "    <tr>\n",
              "      <th>4</th>\n",
              "      <td>5 Gerald Wilkins</td>\n",
              "      <td>ORL</td>\n",
              "      <td>33</td>\n",
              "      <td>198.12</td>\n",
              "      <td>102.058200</td>\n",
              "    </tr>\n",
              "    <tr>\n",
              "      <th>...</th>\n",
              "      <td>...</td>\n",
              "      <td>...</td>\n",
              "      <td>...</td>\n",
              "      <td>...</td>\n",
              "      <td>...</td>\n",
              "    </tr>\n",
              "    <tr>\n",
              "      <th>99</th>\n",
              "      <td>100 Chris Mills</td>\n",
              "      <td>CLE</td>\n",
              "      <td>27</td>\n",
              "      <td>200.66</td>\n",
              "      <td>97.975872</td>\n",
              "    </tr>\n",
              "    <tr>\n",
              "      <th>100</th>\n",
              "      <td>101 Chris Morris</td>\n",
              "      <td>UTA</td>\n",
              "      <td>31</td>\n",
              "      <td>203.20</td>\n",
              "      <td>99.790240</td>\n",
              "    </tr>\n",
              "    <tr>\n",
              "      <th>101</th>\n",
              "      <td>102 Chris Mullin</td>\n",
              "      <td>GSW</td>\n",
              "      <td>33</td>\n",
              "      <td>200.66</td>\n",
              "      <td>97.522280</td>\n",
              "    </tr>\n",
              "    <tr>\n",
              "      <th>102</th>\n",
              "      <td>103 Chris Robinson</td>\n",
              "      <td>VAN</td>\n",
              "      <td>23</td>\n",
              "      <td>195.58</td>\n",
              "      <td>90.718400</td>\n",
              "    </tr>\n",
              "    <tr>\n",
              "      <th>103</th>\n",
              "      <td>104 Chris Webber</td>\n",
              "      <td>WAS</td>\n",
              "      <td>24</td>\n",
              "      <td>208.28</td>\n",
              "      <td>111.130040</td>\n",
              "    </tr>\n",
              "  </tbody>\n",
              "</table>\n",
              "<p>104 rows × 5 columns</p>\n",
              "</div>\n",
              "    <div class=\"colab-df-buttons\">\n",
              "\n",
              "  <div class=\"colab-df-container\">\n",
              "    <button class=\"colab-df-convert\" onclick=\"convertToInteractive('df-f893706a-93e2-4c34-967f-7a0ceffabc65')\"\n",
              "            title=\"Convert this dataframe to an interactive table.\"\n",
              "            style=\"display:none;\">\n",
              "\n",
              "  <svg xmlns=\"http://www.w3.org/2000/svg\" height=\"24px\" viewBox=\"0 -960 960 960\">\n",
              "    <path d=\"M120-120v-720h720v720H120Zm60-500h600v-160H180v160Zm220 220h160v-160H400v160Zm0 220h160v-160H400v160ZM180-400h160v-160H180v160Zm440 0h160v-160H620v160ZM180-180h160v-160H180v160Zm440 0h160v-160H620v160Z\"/>\n",
              "  </svg>\n",
              "    </button>\n",
              "\n",
              "  <style>\n",
              "    .colab-df-container {\n",
              "      display:flex;\n",
              "      gap: 12px;\n",
              "    }\n",
              "\n",
              "    .colab-df-convert {\n",
              "      background-color: #E8F0FE;\n",
              "      border: none;\n",
              "      border-radius: 50%;\n",
              "      cursor: pointer;\n",
              "      display: none;\n",
              "      fill: #1967D2;\n",
              "      height: 32px;\n",
              "      padding: 0 0 0 0;\n",
              "      width: 32px;\n",
              "    }\n",
              "\n",
              "    .colab-df-convert:hover {\n",
              "      background-color: #E2EBFA;\n",
              "      box-shadow: 0px 1px 2px rgba(60, 64, 67, 0.3), 0px 1px 3px 1px rgba(60, 64, 67, 0.15);\n",
              "      fill: #174EA6;\n",
              "    }\n",
              "\n",
              "    .colab-df-buttons div {\n",
              "      margin-bottom: 4px;\n",
              "    }\n",
              "\n",
              "    [theme=dark] .colab-df-convert {\n",
              "      background-color: #3B4455;\n",
              "      fill: #D2E3FC;\n",
              "    }\n",
              "\n",
              "    [theme=dark] .colab-df-convert:hover {\n",
              "      background-color: #434B5C;\n",
              "      box-shadow: 0px 1px 3px 1px rgba(0, 0, 0, 0.15);\n",
              "      filter: drop-shadow(0px 1px 2px rgba(0, 0, 0, 0.3));\n",
              "      fill: #FFFFFF;\n",
              "    }\n",
              "  </style>\n",
              "\n",
              "    <script>\n",
              "      const buttonEl =\n",
              "        document.querySelector('#df-f893706a-93e2-4c34-967f-7a0ceffabc65 button.colab-df-convert');\n",
              "      buttonEl.style.display =\n",
              "        google.colab.kernel.accessAllowed ? 'block' : 'none';\n",
              "\n",
              "      async function convertToInteractive(key) {\n",
              "        const element = document.querySelector('#df-f893706a-93e2-4c34-967f-7a0ceffabc65');\n",
              "        const dataTable =\n",
              "          await google.colab.kernel.invokeFunction('convertToInteractive',\n",
              "                                                    [key], {});\n",
              "        if (!dataTable) return;\n",
              "\n",
              "        const docLinkHtml = 'Like what you see? Visit the ' +\n",
              "          '<a target=\"_blank\" href=https://colab.research.google.com/notebooks/data_table.ipynb>data table notebook</a>'\n",
              "          + ' to learn more about interactive tables.';\n",
              "        element.innerHTML = '';\n",
              "        dataTable['output_type'] = 'display_data';\n",
              "        await google.colab.output.renderOutput(dataTable, element);\n",
              "        const docLink = document.createElement('div');\n",
              "        docLink.innerHTML = docLinkHtml;\n",
              "        element.appendChild(docLink);\n",
              "      }\n",
              "    </script>\n",
              "  </div>\n",
              "\n",
              "\n",
              "<div id=\"df-58fd288d-c5fc-478f-88e2-13e62982246d\">\n",
              "  <button class=\"colab-df-quickchart\" onclick=\"quickchart('df-58fd288d-c5fc-478f-88e2-13e62982246d')\"\n",
              "            title=\"Suggest charts\"\n",
              "            style=\"display:none;\">\n",
              "\n",
              "<svg xmlns=\"http://www.w3.org/2000/svg\" height=\"24px\"viewBox=\"0 0 24 24\"\n",
              "     width=\"24px\">\n",
              "    <g>\n",
              "        <path d=\"M19 3H5c-1.1 0-2 .9-2 2v14c0 1.1.9 2 2 2h14c1.1 0 2-.9 2-2V5c0-1.1-.9-2-2-2zM9 17H7v-7h2v7zm4 0h-2V7h2v10zm4 0h-2v-4h2v4z\"/>\n",
              "    </g>\n",
              "</svg>\n",
              "  </button>\n",
              "\n",
              "<style>\n",
              "  .colab-df-quickchart {\n",
              "      --bg-color: #E8F0FE;\n",
              "      --fill-color: #1967D2;\n",
              "      --hover-bg-color: #E2EBFA;\n",
              "      --hover-fill-color: #174EA6;\n",
              "      --disabled-fill-color: #AAA;\n",
              "      --disabled-bg-color: #DDD;\n",
              "  }\n",
              "\n",
              "  [theme=dark] .colab-df-quickchart {\n",
              "      --bg-color: #3B4455;\n",
              "      --fill-color: #D2E3FC;\n",
              "      --hover-bg-color: #434B5C;\n",
              "      --hover-fill-color: #FFFFFF;\n",
              "      --disabled-bg-color: #3B4455;\n",
              "      --disabled-fill-color: #666;\n",
              "  }\n",
              "\n",
              "  .colab-df-quickchart {\n",
              "    background-color: var(--bg-color);\n",
              "    border: none;\n",
              "    border-radius: 50%;\n",
              "    cursor: pointer;\n",
              "    display: none;\n",
              "    fill: var(--fill-color);\n",
              "    height: 32px;\n",
              "    padding: 0;\n",
              "    width: 32px;\n",
              "  }\n",
              "\n",
              "  .colab-df-quickchart:hover {\n",
              "    background-color: var(--hover-bg-color);\n",
              "    box-shadow: 0 1px 2px rgba(60, 64, 67, 0.3), 0 1px 3px 1px rgba(60, 64, 67, 0.15);\n",
              "    fill: var(--button-hover-fill-color);\n",
              "  }\n",
              "\n",
              "  .colab-df-quickchart-complete:disabled,\n",
              "  .colab-df-quickchart-complete:disabled:hover {\n",
              "    background-color: var(--disabled-bg-color);\n",
              "    fill: var(--disabled-fill-color);\n",
              "    box-shadow: none;\n",
              "  }\n",
              "\n",
              "  .colab-df-spinner {\n",
              "    border: 2px solid var(--fill-color);\n",
              "    border-color: transparent;\n",
              "    border-bottom-color: var(--fill-color);\n",
              "    animation:\n",
              "      spin 1s steps(1) infinite;\n",
              "  }\n",
              "\n",
              "  @keyframes spin {\n",
              "    0% {\n",
              "      border-color: transparent;\n",
              "      border-bottom-color: var(--fill-color);\n",
              "      border-left-color: var(--fill-color);\n",
              "    }\n",
              "    20% {\n",
              "      border-color: transparent;\n",
              "      border-left-color: var(--fill-color);\n",
              "      border-top-color: var(--fill-color);\n",
              "    }\n",
              "    30% {\n",
              "      border-color: transparent;\n",
              "      border-left-color: var(--fill-color);\n",
              "      border-top-color: var(--fill-color);\n",
              "      border-right-color: var(--fill-color);\n",
              "    }\n",
              "    40% {\n",
              "      border-color: transparent;\n",
              "      border-right-color: var(--fill-color);\n",
              "      border-top-color: var(--fill-color);\n",
              "    }\n",
              "    60% {\n",
              "      border-color: transparent;\n",
              "      border-right-color: var(--fill-color);\n",
              "    }\n",
              "    80% {\n",
              "      border-color: transparent;\n",
              "      border-right-color: var(--fill-color);\n",
              "      border-bottom-color: var(--fill-color);\n",
              "    }\n",
              "    90% {\n",
              "      border-color: transparent;\n",
              "      border-bottom-color: var(--fill-color);\n",
              "    }\n",
              "  }\n",
              "</style>\n",
              "\n",
              "  <script>\n",
              "    async function quickchart(key) {\n",
              "      const quickchartButtonEl =\n",
              "        document.querySelector('#' + key + ' button');\n",
              "      quickchartButtonEl.disabled = true;  // To prevent multiple clicks.\n",
              "      quickchartButtonEl.classList.add('colab-df-spinner');\n",
              "      try {\n",
              "        const charts = await google.colab.kernel.invokeFunction(\n",
              "            'suggestCharts', [key], {});\n",
              "      } catch (error) {\n",
              "        console.error('Error during call to suggestCharts:', error);\n",
              "      }\n",
              "      quickchartButtonEl.classList.remove('colab-df-spinner');\n",
              "      quickchartButtonEl.classList.add('colab-df-quickchart-complete');\n",
              "    }\n",
              "    (() => {\n",
              "      let quickchartButtonEl =\n",
              "        document.querySelector('#df-58fd288d-c5fc-478f-88e2-13e62982246d button');\n",
              "      quickchartButtonEl.style.display =\n",
              "        google.colab.kernel.accessAllowed ? 'block' : 'none';\n",
              "    })();\n",
              "  </script>\n",
              "</div>\n",
              "\n",
              "  <div id=\"id_e4f03e3d-fca4-4073-80da-79ac692e3e53\">\n",
              "    <style>\n",
              "      .colab-df-generate {\n",
              "        background-color: #E8F0FE;\n",
              "        border: none;\n",
              "        border-radius: 50%;\n",
              "        cursor: pointer;\n",
              "        display: none;\n",
              "        fill: #1967D2;\n",
              "        height: 32px;\n",
              "        padding: 0 0 0 0;\n",
              "        width: 32px;\n",
              "      }\n",
              "\n",
              "      .colab-df-generate:hover {\n",
              "        background-color: #E2EBFA;\n",
              "        box-shadow: 0px 1px 2px rgba(60, 64, 67, 0.3), 0px 1px 3px 1px rgba(60, 64, 67, 0.15);\n",
              "        fill: #174EA6;\n",
              "      }\n",
              "\n",
              "      [theme=dark] .colab-df-generate {\n",
              "        background-color: #3B4455;\n",
              "        fill: #D2E3FC;\n",
              "      }\n",
              "\n",
              "      [theme=dark] .colab-df-generate:hover {\n",
              "        background-color: #434B5C;\n",
              "        box-shadow: 0px 1px 3px 1px rgba(0, 0, 0, 0.15);\n",
              "        filter: drop-shadow(0px 1px 2px rgba(0, 0, 0, 0.3));\n",
              "        fill: #FFFFFF;\n",
              "      }\n",
              "    </style>\n",
              "    <button class=\"colab-df-generate\" onclick=\"generateWithVariable('data')\"\n",
              "            title=\"Generate code using this dataframe.\"\n",
              "            style=\"display:none;\">\n",
              "\n",
              "  <svg xmlns=\"http://www.w3.org/2000/svg\" height=\"24px\"viewBox=\"0 0 24 24\"\n",
              "       width=\"24px\">\n",
              "    <path d=\"M7,19H8.4L18.45,9,17,7.55,7,17.6ZM5,21V16.75L18.45,3.32a2,2,0,0,1,2.83,0l1.4,1.43a1.91,1.91,0,0,1,.58,1.4,1.91,1.91,0,0,1-.58,1.4L9.25,21ZM18.45,9,17,7.55Zm-12,3A5.31,5.31,0,0,0,4.9,8.1,5.31,5.31,0,0,0,1,6.5,5.31,5.31,0,0,0,4.9,4.9,5.31,5.31,0,0,0,6.5,1,5.31,5.31,0,0,0,8.1,4.9,5.31,5.31,0,0,0,12,6.5,5.46,5.46,0,0,0,6.5,12Z\"/>\n",
              "  </svg>\n",
              "    </button>\n",
              "    <script>\n",
              "      (() => {\n",
              "      const buttonEl =\n",
              "        document.querySelector('#id_e4f03e3d-fca4-4073-80da-79ac692e3e53 button.colab-df-generate');\n",
              "      buttonEl.style.display =\n",
              "        google.colab.kernel.accessAllowed ? 'block' : 'none';\n",
              "\n",
              "      buttonEl.onclick = () => {\n",
              "        google.colab.notebook.generateWithVariable('data');\n",
              "      }\n",
              "      })();\n",
              "    </script>\n",
              "  </div>\n",
              "\n",
              "    </div>\n",
              "  </div>\n"
            ],
            "application/vnd.google.colaboratory.intrinsic+json": {
              "type": "dataframe",
              "variable_name": "data",
              "summary": "{\n  \"name\": \"data\",\n  \"rows\": 104,\n  \"fields\": [\n    {\n      \"column\": \"0 Randy Livingston\",\n      \"properties\": {\n        \"dtype\": \"string\",\n        \"num_unique_values\": 104,\n        \"samples\": [\n          \"31 Eric Leckner\",\n          \"66 John Stockton\",\n          \"65 John Starks\"\n        ],\n        \"semantic_type\": \"\",\n        \"description\": \"\"\n      }\n    },\n    {\n      \"column\": \"HOU\",\n      \"properties\": {\n        \"dtype\": \"category\",\n        \"num_unique_values\": 29,\n        \"samples\": [\n          \"SAC\",\n          \"MIA\",\n          \"BOS\"\n        ],\n        \"semantic_type\": \"\",\n        \"description\": \"\"\n      }\n    },\n    {\n      \"column\": \"22\",\n      \"properties\": {\n        \"dtype\": \"number\",\n        \"std\": 4,\n        \"min\": 18,\n        \"max\": 40,\n        \"num_unique_values\": 21,\n        \"samples\": [\n          28,\n          35,\n          37\n        ],\n        \"semantic_type\": \"\",\n        \"description\": \"\"\n      }\n    },\n    {\n      \"column\": \"193.04\",\n      \"properties\": {\n        \"dtype\": \"number\",\n        \"std\": 8.988669074598102,\n        \"min\": 182.88,\n        \"max\": 231.14,\n        \"num_unique_values\": 16,\n        \"samples\": [\n          190.5,\n          203.2,\n          200.66\n        ],\n        \"semantic_type\": \"\",\n        \"description\": \"\"\n      }\n    },\n    {\n      \"column\": \"94.800728\",\n      \"properties\": {\n        \"dtype\": \"number\",\n        \"std\": 14.021722003279384,\n        \"min\": 72.57472,\n        \"max\": 137.438376,\n        \"num_unique_values\": 41,\n        \"samples\": [\n          111.13004,\n          127.00576,\n          112.490816\n        ],\n        \"semantic_type\": \"\",\n        \"description\": \"\"\n      }\n    }\n  ]\n}"
            }
          },
          "metadata": {},
          "execution_count": 12
        }
      ]
    },
    {
      "cell_type": "code",
      "source": [
        "data.columns"
      ],
      "metadata": {
        "colab": {
          "base_uri": "https://localhost:8080/"
        },
        "id": "BArtqux5Tfv2",
        "outputId": "45a830e4-bcaf-4874-f8ce-e8ce45a78ac0"
      },
      "execution_count": 13,
      "outputs": [
        {
          "output_type": "execute_result",
          "data": {
            "text/plain": [
              "Index(['0 Randy Livingston', 'HOU', '22', '193.04', '94.800728'], dtype='object')"
            ]
          },
          "metadata": {},
          "execution_count": 13
        }
      ]
    },
    {
      "cell_type": "code",
      "source": [
        "!head /content/sample_data.csv"
      ],
      "metadata": {
        "colab": {
          "base_uri": "https://localhost:8080/"
        },
        "id": "1rvKvux-Ttfg",
        "outputId": "204268cf-bee1-405c-f82e-1651a5144780"
      },
      "execution_count": 15,
      "outputs": [
        {
          "output_type": "stream",
          "name": "stdout",
          "text": [
            "0 Randy Livingston,HOU,22,193.04,94.800728\r\n",
            "1 Gaylon Nickerson,WAS,28,190.5,86.18248\r\n",
            "2 George Lynch,VAN,26,203.2,103.418976\r\n",
            "3 George McCloud,LAL,30,203.2,102.0582\r\n",
            "4 George Zidek,DEN,23,213.36,119.748288\r\n",
            "5 Gerald Wilkins,ORL,33,198.12,102.0582\r\n",
            "6 Gheorghe Muresan,WAS,26,231.14,137.438376\r\n",
            "7 Glen Rice,CHH,30,203.2,99.79024\r\n",
            "8 Glenn Robinson,MIL,24,200.66,106.59412\r\n",
            "9 Grant Hill,DET,24,203.2,102.0582\r\n"
          ]
        }
      ]
    },
    {
      "cell_type": "code",
      "source": [
        "import csv\n",
        "\n",
        "# Function to add a new column to the CSV file\n",
        "def add_column(input_file, output_file, new_column_name, new_column_value):\n",
        "    with open(input_file, 'r', newline='') as infile:\n",
        "        reader = csv.reader(infile)\n",
        "        header = next(reader)  # Read the header\n",
        "\n",
        "        # Add the new column name to the header\n",
        "        header.append(new_column_name)\n",
        "\n",
        "        # Create a list to store the modified rows\n",
        "        rows = []\n",
        "\n",
        "        # Iterate over the rows, adding the new column value to each row\n",
        "        for row in reader:\n",
        "            row.append(new_column_value)\n",
        "            rows.append(row)\n",
        "\n",
        "    # Write the modified data to a new file\n",
        "    with open(output_file, 'w', newline='') as outfile:\n",
        "        writer = csv.writer(outfile)\n",
        "\n",
        "        # Write the header\n",
        "        writer.writerow(header)\n",
        "\n",
        "        # Write the modified rows\n",
        "        writer.writerows(rows)\n",
        "\n",
        "# Example usage\n",
        "input_file = '/content/sample_data.csv'\n",
        "output_file = 'output.csv'\n",
        "new_column_name = 'New Column'\n",
        "new_column_value = 'New Value'\n",
        "\n",
        "add_column(input_file, output_file, new_column_name, new_column_value)\n"
      ],
      "metadata": {
        "colab": {
          "base_uri": "https://localhost:8080/",
          "height": 315
        },
        "id": "hEAsD1JDUull",
        "outputId": "39e2e812-0b4d-4d99-f011-692db0218541"
      },
      "execution_count": 25,
      "outputs": [
        {
          "output_type": "error",
          "ename": "FileNotFoundError",
          "evalue": "[Errno 2] No such file or directory: 'input.csv'",
          "traceback": [
            "\u001b[0;31m---------------------------------------------------------------------------\u001b[0m",
            "\u001b[0;31mFileNotFoundError\u001b[0m                         Traceback (most recent call last)",
            "\u001b[0;32m<ipython-input-25-702e3c804292>\u001b[0m in \u001b[0;36m<cell line: 36>\u001b[0;34m()\u001b[0m\n\u001b[1;32m     34\u001b[0m \u001b[0mnew_column_value\u001b[0m \u001b[0;34m=\u001b[0m \u001b[0;34m'New Value'\u001b[0m\u001b[0;34m\u001b[0m\u001b[0;34m\u001b[0m\u001b[0m\n\u001b[1;32m     35\u001b[0m \u001b[0;34m\u001b[0m\u001b[0m\n\u001b[0;32m---> 36\u001b[0;31m \u001b[0madd_column\u001b[0m\u001b[0;34m(\u001b[0m\u001b[0minput_file\u001b[0m\u001b[0;34m,\u001b[0m \u001b[0moutput_file\u001b[0m\u001b[0;34m,\u001b[0m \u001b[0mnew_column_name\u001b[0m\u001b[0;34m,\u001b[0m \u001b[0mnew_column_value\u001b[0m\u001b[0;34m)\u001b[0m\u001b[0;34m\u001b[0m\u001b[0;34m\u001b[0m\u001b[0m\n\u001b[0m",
            "\u001b[0;32m<ipython-input-25-702e3c804292>\u001b[0m in \u001b[0;36madd_column\u001b[0;34m(input_file, output_file, new_column_name, new_column_value)\u001b[0m\n\u001b[1;32m      3\u001b[0m \u001b[0;31m# Function to add a new column to the CSV file\u001b[0m\u001b[0;34m\u001b[0m\u001b[0;34m\u001b[0m\u001b[0m\n\u001b[1;32m      4\u001b[0m \u001b[0;32mdef\u001b[0m \u001b[0madd_column\u001b[0m\u001b[0;34m(\u001b[0m\u001b[0minput_file\u001b[0m\u001b[0;34m,\u001b[0m \u001b[0moutput_file\u001b[0m\u001b[0;34m,\u001b[0m \u001b[0mnew_column_name\u001b[0m\u001b[0;34m,\u001b[0m \u001b[0mnew_column_value\u001b[0m\u001b[0;34m)\u001b[0m\u001b[0;34m:\u001b[0m\u001b[0;34m\u001b[0m\u001b[0;34m\u001b[0m\u001b[0m\n\u001b[0;32m----> 5\u001b[0;31m     \u001b[0;32mwith\u001b[0m \u001b[0mopen\u001b[0m\u001b[0;34m(\u001b[0m\u001b[0minput_file\u001b[0m\u001b[0;34m,\u001b[0m \u001b[0;34m'r'\u001b[0m\u001b[0;34m,\u001b[0m \u001b[0mnewline\u001b[0m\u001b[0;34m=\u001b[0m\u001b[0;34m''\u001b[0m\u001b[0;34m)\u001b[0m \u001b[0;32mas\u001b[0m \u001b[0minfile\u001b[0m\u001b[0;34m:\u001b[0m\u001b[0;34m\u001b[0m\u001b[0;34m\u001b[0m\u001b[0m\n\u001b[0m\u001b[1;32m      6\u001b[0m         \u001b[0mreader\u001b[0m \u001b[0;34m=\u001b[0m \u001b[0mcsv\u001b[0m\u001b[0;34m.\u001b[0m\u001b[0mreader\u001b[0m\u001b[0;34m(\u001b[0m\u001b[0minfile\u001b[0m\u001b[0;34m)\u001b[0m\u001b[0;34m\u001b[0m\u001b[0;34m\u001b[0m\u001b[0m\n\u001b[1;32m      7\u001b[0m         \u001b[0mheader\u001b[0m \u001b[0;34m=\u001b[0m \u001b[0mnext\u001b[0m\u001b[0;34m(\u001b[0m\u001b[0mreader\u001b[0m\u001b[0;34m)\u001b[0m  \u001b[0;31m# Read the header\u001b[0m\u001b[0;34m\u001b[0m\u001b[0;34m\u001b[0m\u001b[0m\n",
            "\u001b[0;31mFileNotFoundError\u001b[0m: [Errno 2] No such file or directory: 'input.csv'"
          ]
        }
      ]
    },
    {
      "cell_type": "code",
      "source": [
        "!ls"
      ],
      "metadata": {
        "colab": {
          "base_uri": "https://localhost:8080/"
        },
        "id": "nP7i2mhCVeal",
        "outputId": "86238d43-2d1a-4393-f082-0db7f93ee694"
      },
      "execution_count": 26,
      "outputs": [
        {
          "output_type": "stream",
          "name": "stdout",
          "text": [
            "all_seasons.pdf  sample_data  sample_data.csv\n"
          ]
        }
      ]
    },
    {
      "cell_type": "code",
      "source": [
        "print(input_file)"
      ],
      "metadata": {
        "colab": {
          "base_uri": "https://localhost:8080/"
        },
        "id": "zkv7ghskVgeU",
        "outputId": "028866ce-6780-4e65-ea56-f3c50b5b76aa"
      },
      "execution_count": 27,
      "outputs": [
        {
          "output_type": "stream",
          "name": "stdout",
          "text": [
            "input.csv\n"
          ]
        }
      ]
    },
    {
      "cell_type": "code",
      "source": [
        "!ls -l /content/sample_data.csv"
      ],
      "metadata": {
        "colab": {
          "base_uri": "https://localhost:8080/"
        },
        "id": "eTZXTKn9VhlU",
        "outputId": "2d0e4d99-c598-4303-de7a-9bbf7ac67580"
      },
      "execution_count": 30,
      "outputs": [
        {
          "output_type": "stream",
          "name": "stdout",
          "text": [
            "-rw-r--r-- 1 root root 4254 Apr 16 05:05 /content/sample_data.csv\n"
          ]
        }
      ]
    },
    {
      "cell_type": "code",
      "source": [
        "def add_column(input_file, output_file, new_column_name, new_column_value):\n",
        "  # Code to add a new column to a CSV file\n",
        "  # ...\n",
        "  # Write the updated data to the output file\n",
        "  with open(output_file, 'w', newline='') as file:\n",
        "    writer = csv.writer(file)\n",
        "    writer.writerows(updated_rows)\n",
        "# Call the function with the provided arguments\n",
        "add_column('/content/sample_data.csv', output_file, new_column_name, new_column_value)"
      ],
      "metadata": {
        "colab": {
          "base_uri": "https://localhost:8080/",
          "height": 349
        },
        "id": "Z1XYY33WV5nB",
        "outputId": "b5be5ae3-2bf2-493f-893a-39c8d8a46aee"
      },
      "execution_count": 34,
      "outputs": [
        {
          "output_type": "error",
          "ename": "NameError",
          "evalue": "name 'updated_rows' is not defined",
          "traceback": [
            "\u001b[0;31m---------------------------------------------------------------------------\u001b[0m",
            "\u001b[0;31mNameError\u001b[0m                                 Traceback (most recent call last)",
            "\u001b[0;32m<ipython-input-34-52090ee6f7f9>\u001b[0m in \u001b[0;36m<cell line: 9>\u001b[0;34m()\u001b[0m\n\u001b[1;32m      7\u001b[0m     \u001b[0mwriter\u001b[0m\u001b[0;34m.\u001b[0m\u001b[0mwriterows\u001b[0m\u001b[0;34m(\u001b[0m\u001b[0mupdated_rows\u001b[0m\u001b[0;34m)\u001b[0m\u001b[0;34m\u001b[0m\u001b[0;34m\u001b[0m\u001b[0m\n\u001b[1;32m      8\u001b[0m \u001b[0;31m# Call the function with the provided arguments\u001b[0m\u001b[0;34m\u001b[0m\u001b[0;34m\u001b[0m\u001b[0m\n\u001b[0;32m----> 9\u001b[0;31m \u001b[0madd_column\u001b[0m\u001b[0;34m(\u001b[0m\u001b[0;34m'/content/sample_data.csv'\u001b[0m\u001b[0;34m,\u001b[0m \u001b[0moutput_file\u001b[0m\u001b[0;34m,\u001b[0m \u001b[0mnew_column_name\u001b[0m\u001b[0;34m,\u001b[0m \u001b[0mnew_column_value\u001b[0m\u001b[0;34m)\u001b[0m\u001b[0;34m\u001b[0m\u001b[0;34m\u001b[0m\u001b[0m\n\u001b[0m",
            "\u001b[0;32m<ipython-input-34-52090ee6f7f9>\u001b[0m in \u001b[0;36madd_column\u001b[0;34m(input_file, output_file, new_column_name, new_column_value)\u001b[0m\n\u001b[1;32m      5\u001b[0m   \u001b[0;32mwith\u001b[0m \u001b[0mopen\u001b[0m\u001b[0;34m(\u001b[0m\u001b[0moutput_file\u001b[0m\u001b[0;34m,\u001b[0m \u001b[0;34m'w'\u001b[0m\u001b[0;34m,\u001b[0m \u001b[0mnewline\u001b[0m\u001b[0;34m=\u001b[0m\u001b[0;34m''\u001b[0m\u001b[0;34m)\u001b[0m \u001b[0;32mas\u001b[0m \u001b[0mfile\u001b[0m\u001b[0;34m:\u001b[0m\u001b[0;34m\u001b[0m\u001b[0;34m\u001b[0m\u001b[0m\n\u001b[1;32m      6\u001b[0m     \u001b[0mwriter\u001b[0m \u001b[0;34m=\u001b[0m \u001b[0mcsv\u001b[0m\u001b[0;34m.\u001b[0m\u001b[0mwriter\u001b[0m\u001b[0;34m(\u001b[0m\u001b[0mfile\u001b[0m\u001b[0;34m)\u001b[0m\u001b[0;34m\u001b[0m\u001b[0;34m\u001b[0m\u001b[0m\n\u001b[0;32m----> 7\u001b[0;31m     \u001b[0mwriter\u001b[0m\u001b[0;34m.\u001b[0m\u001b[0mwriterows\u001b[0m\u001b[0;34m(\u001b[0m\u001b[0mupdated_rows\u001b[0m\u001b[0;34m)\u001b[0m\u001b[0;34m\u001b[0m\u001b[0;34m\u001b[0m\u001b[0m\n\u001b[0m\u001b[1;32m      8\u001b[0m \u001b[0;31m# Call the function with the provided arguments\u001b[0m\u001b[0;34m\u001b[0m\u001b[0;34m\u001b[0m\u001b[0m\n\u001b[1;32m      9\u001b[0m \u001b[0madd_column\u001b[0m\u001b[0;34m(\u001b[0m\u001b[0;34m'/content/sample_data.csv'\u001b[0m\u001b[0;34m,\u001b[0m \u001b[0moutput_file\u001b[0m\u001b[0;34m,\u001b[0m \u001b[0mnew_column_name\u001b[0m\u001b[0;34m,\u001b[0m \u001b[0mnew_column_value\u001b[0m\u001b[0;34m)\u001b[0m\u001b[0;34m\u001b[0m\u001b[0;34m\u001b[0m\u001b[0m\n",
            "\u001b[0;31mNameError\u001b[0m: name 'updated_rows' is not defined"
          ]
        }
      ]
    },
    {
      "cell_type": "code",
      "source": [
        "# Code to add a new column to a CSV file\n",
        "# ...\n",
        "# Create a list to store the updated rows\n",
        "updated_rows = []\n",
        "# ..."
      ],
      "metadata": {
        "id": "ExE3cL6vWmSA"
      },
      "execution_count": 35,
      "outputs": []
    },
    {
      "cell_type": "code",
      "source": [
        "with open(file.name, 'r') as csvfile:\n",
        "  reader = csv.reader(csvfile)\n",
        "  rows = list(reader)"
      ],
      "metadata": {
        "id": "LCwinX1EWnkA"
      },
      "execution_count": 37,
      "outputs": []
    },
    {
      "cell_type": "code",
      "source": [
        "# Add the new column to the CSV file\n",
        "# ...\n",
        "# Add the updated rows to the list\n",
        "for row in rows:\n",
        "  # Add the new column value to the row\n",
        "  row.append(new_column_value)\n",
        "  # Add the updated row to the list\n",
        "  updated_rows.append(row)\n",
        "# ..."
      ],
      "metadata": {
        "id": "BzEBsceNX_ZM"
      },
      "execution_count": 38,
      "outputs": []
    },
    {
      "cell_type": "code",
      "source": [
        "with open('/content/sample_data.csv', 'w', newline='') as csvfile:\n",
        "  writer = csv.writer(csvfile)\n",
        "  writer.writerows(updated_rows)"
      ],
      "metadata": {
        "id": "FlGa3mY0YCka"
      },
      "execution_count": 39,
      "outputs": []
    },
    {
      "cell_type": "code",
      "source": [
        "import csv\n",
        "\n",
        "# Function to add a new column to the CSV file\n",
        "def add_column(input_file, output_file, new_column_name, new_column_value):\n",
        "    with open(input_file, 'r', newline='') as infile:\n",
        "        reader = csv.reader(infile)\n",
        "        header = next(reader)  # Read the header\n",
        "\n",
        "        # Add the new column name to the header\n",
        "        header.append(new_column_name)\n",
        "\n",
        "        # Create a list to store the modified rows\n",
        "        rows = []\n",
        "\n",
        "        # Iterate over the rows, adding the new column value to each row\n",
        "        for row in reader:\n",
        "            row.append(new_column_value)\n",
        "            rows.append(row)\n",
        "\n",
        "    # Write the modified data to a new file\n",
        "    with open(output_file, 'w', newline='') as outfile:\n",
        "        writer = csv.writer(outfile)\n",
        "\n",
        "        # Write the header\n",
        "        writer.writerow(header)\n",
        "\n",
        "        # Write the modified rows\n",
        "        writer.writerows(rows)\n",
        "\n",
        "# Example usage\n",
        "input_file = '/content/sample_data.csv'\n",
        "output_file = 'output.csv'\n",
        "new_column_name = 'O grade'\n",
        "new_column_name = 'A+ grade'\n",
        "new_column_name = 'A grade'\n",
        "new_column_name = 'B+ grade'\n",
        "new_column_name= 'B grade'\n",
        "new_column_name = 'C grade'\n",
        "new_column_name = 'U'\n",
        "new_column_value = 12\n",
        "add_column(input_file, output_file, new_column_name, new_column_value)\n"
      ],
      "metadata": {
        "id": "kbb9aQAVYL_S"
      },
      "execution_count": 42,
      "outputs": []
    },
    {
      "cell_type": "code",
      "source": [],
      "metadata": {
        "id": "zO2P_G5AWo0P"
      },
      "execution_count": null,
      "outputs": []
    }
  ]
}